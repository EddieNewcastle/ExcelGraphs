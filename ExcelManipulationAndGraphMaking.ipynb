{
 "cells": [
  {
   "cell_type": "code",
   "execution_count": 1,
   "id": "convinced-zimbabwe",
   "metadata": {},
   "outputs": [],
   "source": [
    "import numpy as np\n",
    "import pandas as pd\n",
    "import seaborn as sns\n",
    "import matplotlib.pyplot as plt\n",
    "%matplotlib inline\n",
    "import matplotlib as mpl"
   ]
  },
  {
   "cell_type": "code",
   "execution_count": null,
   "id": "american-period",
   "metadata": {},
   "outputs": [],
   "source": [
    "#ImportingExcelFiles\n",
    "Variable= pd.read_csv('NameOfFile.csv')"
   ]
  },
  {
   "cell_type": "code",
   "execution_count": null,
   "id": "capable-fashion",
   "metadata": {},
   "outputs": [],
   "source": [
    "#ShowingTheFile\n",
    "Variable"
   ]
  },
  {
   "cell_type": "code",
   "execution_count": null,
   "id": "afraid-jesus",
   "metadata": {},
   "outputs": [],
   "source": [
    "#ChangingColumnNames\n",
    "Variable['OldColumnName'].replace(['x,y,z'],['a,b,c'],inplace=True)"
   ]
  },
  {
   "cell_type": "code",
   "execution_count": null,
   "id": "animated-community",
   "metadata": {},
   "outputs": [],
   "source": [
    "#ChangingAllResultsInTheColumn (multiplying by 1000)\n",
    "Variable['x']=variable['x']*1000"
   ]
  },
  {
   "cell_type": "code",
   "execution_count": null,
   "id": "logical-capture",
   "metadata": {},
   "outputs": [],
   "source": [
    "#RenamingTheColumns\n",
    "Variable.rename(columns= {'x':'xx'},inplace=True)"
   ]
  },
  {
   "cell_type": "code",
   "execution_count": null,
   "id": "rural-bibliography",
   "metadata": {},
   "outputs": [],
   "source": [
    "#AddingColumnFromTwoColumnsInGraph\n",
    "Variable['xy']= variable['x']*variable['y'] #(CAN REPLACE WITH INTERGERS)"
   ]
  },
  {
   "cell_type": "code",
   "execution_count": null,
   "id": "architectural-treasury",
   "metadata": {},
   "outputs": [],
   "source": [
    "#TakingJustTheValuesFromAColumn(TakingValuesJustFromYear2021)\n",
    "df=Variable[(Variable['Year']==2021)]\n",
    "#ConvertingToAnExcelFile\n",
    "df.to_excel(NameOfFile.xlsx',sheet_name'SheetName')"
   ]
  },
  {
   "cell_type": "code",
   "execution_count": null,
   "id": "packed-eating",
   "metadata": {},
   "outputs": [],
   "source": [
    "#ImportingExcelFileForProducingAGraph\n",
    "Variable= pd.read_csv('NameOfFile.csv')\n",
    "Variable\n",
    "#ProducingALineGraph\n",
    "ax,fig=plt.subplots(figsize=(10,5))\n",
    "x= Variable['ColumnName1']\n",
    "y= Variable['ColumnName2']\n",
    "plt.plot(x,y)\n",
    "plt.title('TitleOfTheGraph')\n",
    "plt.savefig('TitleOfSavingFile.png', dpi=1000)\n",
    "plt.show()"
   ]
  },
  {
   "cell_type": "code",
   "execution_count": null,
   "id": "valuable-nelson",
   "metadata": {},
   "outputs": [],
   "source": [
    "#ImportingExcelFileForProducingAGraph\n",
    "Variable= pd.read_csv('NameOfFile.csv')\n",
    "Variable\n",
    "#ProducingALineGraphWithSubPlots\n",
    "info= Variable\n",
    "ax,fig=plt.subplots(figsize=(10,5))\n",
    "sns.pointplot(x='ColumnName1',y='ColumnName2',data=info)\n",
    "plt.title('TitleOfGraph')\n",
    "plt.savefig('TitleOfSavingFile.png',dpi=500)\n",
    "plt.show()"
   ]
  },
  {
   "cell_type": "code",
   "execution_count": null,
   "id": "working-closer",
   "metadata": {},
   "outputs": [],
   "source": [
    "#ImportingExcelFileForProducingAGraph\n",
    "Variable= pd.read_csv('NameOfFile.csv')\n",
    "Variable\n",
    "#ProducingAVerticalBarChart\n",
    "info= Variable\n",
    "ax,fig=plt.subplots(figsize=(10,5))\n",
    "sns.barplot(x='ColumnName1',y='ColumnName2',data=info)\n",
    "plt.title('TitleOfGraph')\n",
    "plt.tight_layout()\n",
    "plt.savefig('TitleOfSavingFile.png',dpi=1000)\n",
    "plt.show()"
   ]
  },
  {
   "cell_type": "code",
   "execution_count": null,
   "id": "exterior-camping",
   "metadata": {},
   "outputs": [],
   "source": [
    "#ImportingExcelFileForProducingAGraph\n",
    "Variable= pd.read_csv('NameOfFile.csv')\n",
    "Variable\n",
    "#ProducingADoughnutChart\n",
    "ax,fig=plt.subplots(figsize=(6,4),dpi=200)\n",
    "values2 = Variable['ColumnName1']\n",
    "labels_ = Variable['ColumnName2']\n",
    "\n",
    "explode= (0.05,0.05,0.05,0.05,0.05,0.05,0.05,\n",
    "          0.05,0.05,0.05,0.05,0.05,0.05,0.05)\n",
    "\n",
    "plt.pie(values2,labels=labels_,autopct='%1.0f%%',\n",
    "       startangle=90,pctdistance=0.85)\n",
    "centre_circle= plt.Circle((0,0),0.50,fc='white')\n",
    "fig= plt.gcf()\n",
    "fig.gca().add_artist(centre_circle)\n",
    "plt.axis('equal')\n",
    "\n",
    "plt.tight_layout()\n",
    "plt.title('TitleOfGraph')\n",
    "plt.show()"
   ]
  }
 ],
 "metadata": {
  "kernelspec": {
   "display_name": "Python 3",
   "language": "python",
   "name": "python3"
  },
  "language_info": {
   "codemirror_mode": {
    "name": "ipython",
    "version": 3
   },
   "file_extension": ".py",
   "mimetype": "text/x-python",
   "name": "python",
   "nbconvert_exporter": "python",
   "pygments_lexer": "ipython3",
   "version": "3.8.8"
  }
 },
 "nbformat": 4,
 "nbformat_minor": 5
}
